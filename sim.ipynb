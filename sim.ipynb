{
 "cells": [
  {
   "cell_type": "markdown",
   "metadata": {},
   "source": [
    "## Sistema: n servidores en serie con retroceso\n",
    "\n",
    "Este proyecto se enfoca en la creación de una simulación de eventos discretos con el fin de analizar y comprender diversos fenómenos. Nuestro objetivo es aplicar los principios de esta simulación para modelar y experimentar con dichos fenómenos, con el propósito de obtener resultados que guíen nuestras decisiones de manera informada.\n",
    "\n",
    "Los clientes llegan a un sistema que tiene n servidores, y las llegadas distribuye M. Cada cliente que llega debe ser atendido primero por el servidor 1 y, al completar el servicio en el servidor 1, el cliente pasa al servidor 2.\n",
    "\n",
    "Cuando un cliente llega, entra en servicio con el servidor 1 si ese servidor está libre, o se une a la cola del servidor 1 en caso contrario. De manera similar, cuando el cliente completa el servicio en el servidor 1, entra en servicio con el servidor 2 si ese servidor está libre, o se une a su cola y asi sucesivamente. Después de ser atendido en el servidor n, el cliente abandona el sistema.\n",
    "\n",
    "El servidor i con una probabilidad p pude se salta a la cola del servidor j.\n",
    "\n",
    "Los tiempos de servicio en el servidor i tienen la distribución Gi\n",
    "\n",
    "### Variables\n",
    "\n",
    "#### Tiempo\n",
    "\n",
    "$t$: tiempo general  \n",
    "$t_A$: tiempo de arribo del proximo cliente  \n",
    "$t_Di$: tiempo de salida del servidor i  \n",
    "\n",
    "#### Contadoras\n",
    "\n",
    "$n_A$: cantidad de arribos  \n",
    "$n_D$: cantidad de salidas  \n",
    "$Q_i$: arribos a la cola del servidor i  \n",
    "$A_i$: arribos al servidor i  \n",
    "$D_j$: salidas del servidor i  \n",
    "\n",
    "#### Estado\n",
    "\n",
    "$Queue_i$: cola de espera del servidor i\n"
   ]
  },
  {
   "cell_type": "markdown",
   "metadata": {},
   "source": [
    "### Implementación"
   ]
  },
  {
   "cell_type": "markdown",
   "metadata": {},
   "source": [
    "Se define un enum llamada EventType, el cual representa los distintos tipos de eventos que pueden ocurrir en el sistema simulado. Cada tipo de evento tiene asignado un valor entero único.\n",
    "\n",
    "ASIGNED: Este evento se refiere a la asignación de un cliente a la cola de un servidor.\n",
    "\n",
    "ARRIVAL: Representa la llegada de un cliente a un servidor.\n",
    "\n",
    "FINISH: Indica la finalización o conclusión del servicio al cliente."
   ]
  },
  {
   "cell_type": "code",
   "execution_count": 1,
   "metadata": {
    "ExecuteTime": {
     "end_time": "2024-04-03T13:12:53.244996Z",
     "start_time": "2024-04-03T13:12:53.239402Z"
    }
   },
   "outputs": [],
   "source": [
    "from enum import auto, Enum\n",
    "\n",
    "\n",
    "class EventType(Enum):\n",
    "    ASIGNED = auto()\n",
    "    ARRIVAL = auto()\n",
    "    FINISH = auto()\n",
    "    \n",
    "    def __lt__(self, other):\n",
    "        return self.value < other.value"
   ]
  },
  {
   "cell_type": "markdown",
   "metadata": {},
   "source": [
    "Para simular servidores informáticos, hemos empleado una distribución exponencial con distintos valores de lambda. Estos valores de lambda representan diversas velocidades de procesamiento, que varían según la calidad y la generación de los servidores. Al utilizar distribuciones exponenciales, modelamos el tiempo que tarda cada servidor en completar una tarea, teniendo en cuenta la tasa promedio de llegada de solicitudes.\n",
    "\n",
    "La selección de distribuciones y valores específicos de lambda o parámetros de distribución se basa en la necesidad de modelar con precisión las características y variaciones de tiempo en cada contexto simulado, lo que nos permite obtener resultados realistas y significativos para la toma de decisiones y la optimización de los sistemas."
   ]
  },
  {
   "cell_type": "markdown",
   "metadata": {},
   "source": [
    "### Servidores informáticos"
   ]
  },
  {
   "cell_type": "code",
   "execution_count": 2,
   "metadata": {
    "ExecuteTime": {
     "end_time": "2024-04-03T13:12:53.426376Z",
     "start_time": "2024-04-03T13:12:53.246007Z"
    }
   },
   "outputs": [],
   "source": [
    "from queue import PriorityQueue as pq\n",
    "import random\n",
    "from tabulate import tabulate\n",
    "import numpy as np\n",
    "\n",
    "def servers_simulation(time, n, lambda_arrival_time, mu_wait_time, p, finish=True):\n",
    "    \"\"\"\n",
    "    Este método simula un sistema de servidores para atender solicitudes de clientes.\n",
    "\n",
    "    Args:\n",
    "        time (int): Duración máxima de la simulación\n",
    "        n (int): El número de servidores en el sistema.\n",
    "        lambda_arrival_time (float): La tasa promedio de llegada de solicitudes al sistema.\n",
    "        mu_wait_time list(float): La tasa promedio de tiempo de espera en el sistema.\n",
    "        p (float): La probabilidad de que una solicitud sea asignada a un servidor adyacente.\n",
    "\n",
    "    Returns:\n",
    "        t: Tiempo del último evento procesado.\n",
    "        n: Número de servidores del sistema.\n",
    "        n_a (int): Número de arribos al sistema.\n",
    "        n_d (int): Número de clientes atendidos en el sistema.\n",
    "        q (list(dict)): Por cada par {server, client} tenemos los tiempos de llegada a la cola del servidor de dicho cliente.\n",
    "        a (list(dict)): Por cada par {server, client} tenemos los tiempos de llegada al servidor de dicho cliente.\n",
    "        d (list(dict)): Por cada par {server, client} tenemos los timpos de salida del servridor de dicho cliente.\n",
    "    \"\"\"\n",
    "    \n",
    "    #Inicialización de variables\n",
    "    t = 0\n",
    "    events = pq() \n",
    "    # Events: cola con prioridad, que se organizara en base al tiempo, de modo que siempre este arriba el evento mas cercano a ocurrir.\n",
    "    n_a = 0\n",
    "    n_d = 0\n",
    "    a = [{} for _ in range(n)]\n",
    "    q = [{} for _ in range(n)]\n",
    "    d = [{} for _ in range(n)]\n",
    "    queue = [[] for _ in range(n)]\n",
    "    \n",
    "    # LLegada del primer cliente al sistema\n",
    "    events.put((t + random.expovariate(lambda_arrival_time), (EventType.ASIGNED, 0, 0)))\n",
    "\n",
    "    while((finish or t < time ) and not events.empty()):\n",
    "        #Analizamos el próximo evento, el evento con menor t, y por tanto el primero en la cola de prioridad.\n",
    "        (t, (e, c, i)) = events.get()\n",
    "        \n",
    "        if e == EventType.ASIGNED:\n",
    "            # Evento: ASIGEND (llegó un client nuevo al servidor {i})\n",
    "            index = c if i !=0 else n_a\n",
    "             \n",
    "            q_t = q[i].get(index, list())\n",
    "            q_t.append(t)\n",
    "            q[i][index] = q_t\n",
    "            \n",
    "            if len(queue[i]) == 0:\n",
    "                #Si la cola esta vacia el servidor lo atiende inmediatamente \n",
    "                #Por lo que se pone en la cola de eventos en este mismo tiempo con el estado ARRIVAL\n",
    "                events.put((t, (EventType.ARRIVAL, index, i)))\n",
    "            \n",
    "            queue[i].append(index)\n",
    "\n",
    "            if i == 0:\n",
    "                # Si el servidor es el 0, significa que el cliente recién arribo al sistema\n",
    "                n_a += 1\n",
    "                \n",
    "                # Entonces generamos el tiempo de llegada del próximo cliente\n",
    "                t_next_a = random.expovariate(lambda_arrival_time)\n",
    "                if t + t_next_a < time:\n",
    "                    events.put((t + t_next_a, (EventType.ASIGNED, 0, 0)))\n",
    "                \n",
    "        elif e == EventType.ARRIVAL:\n",
    "            \n",
    "            # Asignamos el tiempo de llegada al servidor {i} del cliente numero {c}\n",
    "            a_t = a[i].get(c, list())\n",
    "            a_t.append(t)\n",
    "            a[i][c] = a_t\n",
    "            # Generamos el tiempo que demorará en ser atendido\n",
    "            duration = random.expovariate(mu_wait_time[i])\n",
    "            # Añadimos el evento finish del client en el servidor {i} teniendo en cuenta la duración generada.\n",
    "            events.put((t + duration, (EventType.FINISH, c, i)))\n",
    "            \n",
    "            \n",
    "        elif e == EventType.FINISH:\n",
    "            if len(queue[i]) > 0:\n",
    "                # En la punta de la cola siempre está el número del cliente que se está atendiendo en ese momento.\n",
    "                queue[i].pop(0)\n",
    "            \n",
    "            if len(queue[i]) > 0:\n",
    "                # Si después de sacar de la cola el que se termino de atender en el t actual quedan clientes,\n",
    "                # entonces creamos el evento arrival para el siguiente en la cola\n",
    "                events.put((t, (EventType.ARRIVAL, queue[i][0], i)))\n",
    "\n",
    "            # Asignamos el tiempo de salida del servidor {i} del cliente numero {c}\n",
    "            d_t = d[i].get(c, list())\n",
    "            d_t.append(t)\n",
    "            d[i][c] = d_t\n",
    "            \n",
    "            if i == n-1:\n",
    "                # Si el cliente estaba en el último servidor aumentamos el número de clientes que han salido del sistema\n",
    "                n_d += 1\n",
    "                continue\n",
    "            \n",
    "            # Asignamos el cliente que recién termina en el servidor {i} al siguiente servidor.\n",
    "            # Este puede ser {i+1} o un servidor anterior con probabilidad p.\n",
    "            next_server = i+1 if i == 0 or random.uniform(0,1) > p[i] else random.choice([j for j in range(i)])\n",
    "            events.put((t, (EventType.ASIGNED, c, next_server)))\n",
    "            \n",
    "    return t, n, n_a, n_d, q, a, d\n",
    "\n"
   ]
  },
  {
   "cell_type": "markdown",
   "metadata": {},
   "source": [
    "### Hallazgos y Experimentos"
   ]
  },
  {
   "cell_type": "markdown",
   "metadata": {},
   "source": [
    "Primero preparamos algunos métodos que nos harán más fácil experimentar con la simulación desarollada"
   ]
  },
  {
   "cell_type": "code",
   "execution_count": 3,
   "metadata": {},
   "outputs": [],
   "source": [
    "class Metrics:\n",
    "    def __init__(self, time, n_d, wait_time, use_time, system_time) -> None:\n",
    "        self.time = time\n",
    "        self.n_d = n_d\n",
    "        self.wait_time = wait_time\n",
    "        self.use_time = use_time\n",
    "        self.system_time = system_time\n",
    "        "
   ]
  },
  {
   "cell_type": "code",
   "execution_count": 4,
   "metadata": {
    "ExecuteTime": {
     "start_time": "2024-04-03T13:12:53.429386Z"
    }
   },
   "outputs": [],
   "source": [
    "def metrics_by_simulation(time, n, lambda_arrival_time, mu_wait_time, p, finish):\n",
    "\n",
    "    # Ejecutamos la simulación del servidor para obtener las métricas relevantes.\n",
    "    t, n, n_a, n_d, q, a, d = servers_simulation(time, n, lambda_arrival_time, mu_wait_time, p, finish)\n",
    "        \n",
    "    wait_time = []\n",
    "    use_time = []\n",
    "    system_time = [0 for _ in range(n_a)]\n",
    "    on_queue = [0 for _ in range(n)]\n",
    "    processing = [0 for _ in range(n)]\n",
    "    \n",
    "    # Iteramos sobre los servidores para calcular las métricas.\n",
    "    for s in range(n):\n",
    "        \n",
    "        wait_time_per_client = []\n",
    "        use_time_per_client = []\n",
    "    \n",
    "        for c in range(n_a):\n",
    "            \n",
    "            q_t = q[s].get(c, list())\n",
    "            a_t = a[s].get(c, list())\n",
    "            d_t = d[s].get(c, list())\n",
    "            \n",
    "            if len(q_t) == 0:\n",
    "                continue\n",
    "            \n",
    "            if len(a_t) == 0:\n",
    "                wait_time_per_client.append(t - q_t[0])\n",
    "                on_queue[s] += 1\n",
    "                continue\n",
    "                \n",
    "            if len(d_t) == 0:\n",
    "                w_t = sum(a - q for q, a in zip(q_t, a_t)) / len(a_t)\n",
    "                wait_time_per_client.append(w_t)\n",
    "                \n",
    "                processing[s] + 1\n",
    "                continue\n",
    "            \n",
    "            # Calculamos los tiempos de espera y uso promedio por cliente.\n",
    "            w_t = sum(a - q for q, a in zip(q_t, a_t)) / len(a_t)\n",
    "            u_t = sum(d - a for a, d in zip(a_t, d_t)) / len(a_t)\n",
    "            wait_time_per_client.append(w_t)\n",
    "            use_time_per_client.append(u_t)\n",
    "            \n",
    "            # Actualizamos el tiempo del sistema si es el primer o último servidor.\n",
    "            if s == 0 and c < n_d:\n",
    "                system_time[c] -= q_t[0]\n",
    "            if s == n-1 and c < n_d:\n",
    "                system_time[c] += d_t[-1]  \n",
    "    \n",
    "        wait_time.append(np.mean(wait_time_per_client))\n",
    "        use_time.append(np.mean(use_time_per_client))\n",
    "                    \n",
    "    return Metrics(t, n_d, wait_time, use_time, system_time)\n",
    "\n",
    "\n",
    "def run_simulation(time, n, lambda_arrival_time, mu_wait_time, p, finish):\n",
    "    \n",
    "    # Definimos los parámetros para el control de convergencia.\n",
    "    min_iterations = 1000\n",
    "    max_iterations = 5000\n",
    "    convergence_threshold = 0.001\n",
    "    iterations = 0\n",
    "    \n",
    "    system_time = []\n",
    "    wait_time = []\n",
    "    use_time = []\n",
    "\n",
    "    while True:\n",
    "        metrics = metrics_by_simulation(time, n, lambda_arrival_time, mu_wait_time, p, finish)\n",
    "        \n",
    "        system_time.append(np.mean(metrics.system_time))\n",
    "        wait_time.append(np.mean(metrics.wait_time))\n",
    "        use_time.append(np.mean(metrics.use_time))\n",
    "        \n",
    "        iterations += 1\n",
    "        \n",
    "        if iterations >= max_iterations:\n",
    "            break\n",
    "        \n",
    "        # Verificamos la convergencia después de alcanzar el número mínimo de iteraciones.\n",
    "        if iterations >= min_iterations:\n",
    "            standard_deviation = np.std(system_time)\n",
    "            \n",
    "            if standard_deviation/len(system_time) < convergence_threshold:\n",
    "                break\n",
    "            \n",
    "\n",
    "    return {\n",
    "        \"Wait Time\": (np.var(wait_time), np.mean(wait_time)),\n",
    "        \"Use Time\": (np.var(use_time), np.mean(use_time)),\n",
    "        \"System Time\": (np.var(system_time), np.mean(system_time))\n",
    "    }"
   ]
  },
  {
   "cell_type": "markdown",
   "metadata": {},
   "source": [
    "### Convergencia\n",
    "\n",
    "La verificación de la convergencia en las simulaciones es un aspecto crucial para garantizar la fiabilidad y precisión de los resultados obtenidos. En este proyecto, se implementó un método de convergencia basado en la observación de métricas clave a lo largo de múltiples iteraciones de simulación.\n",
    "\n",
    "#### Parámetros de Convergencia\n",
    "\n",
    "Para controlar la convergencia de las simulaciones, se definieron los siguientes parámetros:\n",
    "\n",
    "min_iterations: Número mínimo de iteraciones antes de verificar la convergencia.\n",
    "max_iterations: Número máximo de iteraciones permitidas.\n",
    "convergence_threshold: Umbral de convergencia, que determina cuándo se considera que la simulación ha convergido.\n",
    "\n",
    "\n",
    "El proceso de convergencia se llevó a cabo mediante un bucle while que ejecuta iteraciones de la simulación hasta que se cumplan las condiciones de convergencia. Durante cada iteración, se recopilaron métricas relevantes, incluyendo el tiempo en el sistema (system_time), el tiempo de espera (wait_time), y el tiempo de uso (use_time).\n",
    "\n",
    "La convergencia se verifica después de alcanzar el número mínimo de iteraciones (min_iterations). Se calcula la desviación estándar de los tiempos del sistema y se compara con el umbral de convergencia (convergence_threshold). Si la desviación estándar dividida por la cantidade simulaciones es menos que el umbral se considera que la simulación ha convergido y el bucle se detiene. También se considera que se deben tener las simulaciones despues de un número máximo de iteraciones.\n",
    "\n",
    "Una vez que se alcanza la convergencia, se recopilan las métricas finales, incluyendo la varianza y la media de los tiempos de espera, uso del sistema y tiempo del sistema. Estas métricas proporcionan una visión completa del desempeño del sistema bajo las condiciones simuladas."
   ]
  },
  {
   "cell_type": "markdown",
   "metadata": {},
   "source": [
    "### Experimento 1\n",
    "\n",
    "Un único servidor con un procesamiento promedio de 256 solicitudes procesadas y 150 recibidas por segundo, sin retroceso y las simulaciones tendrán una duración de 5s = 5000ms."
   ]
  },
  {
   "cell_type": "code",
   "execution_count": 5,
   "metadata": {},
   "outputs": [
    {
     "name": "stdout",
     "output_type": "stream",
     "text": [
      "+-------------+------------+------------------+\n",
      "| Metric      |   Variance |   Expected value |\n",
      "+=============+============+==================+\n",
      "| Wait Time   |   1.5084   |          5.31645 |\n",
      "+-------------+------------+------------------+\n",
      "| Use Time    |   0.021088 |          3.99982 |\n",
      "+-------------+------------+------------------+\n",
      "| System Time |   1.72313  |          9.31627 |\n",
      "+-------------+------------+------------------+\n"
     ]
    }
   ],
   "source": [
    "results = run_simulation(5000, 1, 1/7, [1/4], [0], True)\n",
    "\n",
    "rows = [[key, results[key][0], results[key][1]] for key in results.keys()]\n",
    "\n",
    "print(tabulate(rows, headers=[\"Metric\", \"Variance\", \"Expected value\"], tablefmt=\"grid\"))"
   ]
  },
  {
   "cell_type": "markdown",
   "metadata": {},
   "source": [
    "### Experimento 2\n",
    "\n",
    "Un único servidor con un procesamiento promedio de 512 solicitudes procesadas y 150 recibidas por segundo, sin retroceso y las simulaciones tendrán una duración de 5s = 5000ms."
   ]
  },
  {
   "cell_type": "code",
   "execution_count": 6,
   "metadata": {},
   "outputs": [
    {
     "name": "stdout",
     "output_type": "stream",
     "text": [
      "+-------------+------------+------------------+\n",
      "| Metric      |   Variance |   Expected value |\n",
      "+=============+============+==================+\n",
      "| Wait Time   | 0.0184834  |          0.79052 |\n",
      "+-------------+------------+------------------+\n",
      "| Use Time    | 0.00538621 |          1.99254 |\n",
      "+-------------+------------+------------------+\n",
      "| System Time | 0.0344657  |          2.78306 |\n",
      "+-------------+------------+------------------+\n"
     ]
    }
   ],
   "source": [
    "results = run_simulation(5000, 1, 1/7, [1/2], [0], True)\n",
    "\n",
    "rows = [[key, results[key][0], results[key][1]] for key in results.keys()]\n",
    "\n",
    "print(tabulate(rows, headers=[\"Metric\", \"Variance\", \"Expected value\"], tablefmt=\"grid\"))"
   ]
  },
  {
   "cell_type": "markdown",
   "metadata": {},
   "source": [
    "### Experimento 3\n",
    "\n",
    "Un único servidor con un procesamiento promedio de 1024 solicitudes procesadas y 150 recibidas por segundo, sin retroceso y las simulaciones tendrán una duración de 5s = 5000ms."
   ]
  },
  {
   "cell_type": "code",
   "execution_count": 7,
   "metadata": {},
   "outputs": [
    {
     "name": "stdout",
     "output_type": "stream",
     "text": [
      "+-------------+------------+------------------+\n",
      "| Metric      |   Variance |   Expected value |\n",
      "+=============+============+==================+\n",
      "| Wait Time   | 0.00104274 |         0.167856 |\n",
      "+-------------+------------+------------------+\n",
      "| Use Time    | 0.0012394  |         1.00035  |\n",
      "+-------------+------------+------------------+\n",
      "| System Time | 0.00325681 |         1.1682   |\n",
      "+-------------+------------+------------------+\n"
     ]
    }
   ],
   "source": [
    "results = run_simulation(5000, 1, 1/7, [1], [0], True)\n",
    "\n",
    "rows = [[key, results[key][0], results[key][1]] for key in results.keys()]\n",
    "\n",
    "print(tabulate(rows, headers=[\"Metric\", \"Variance\", \"Expected value\"], tablefmt=\"grid\"))"
   ]
  },
  {
   "cell_type": "markdown",
   "metadata": {},
   "source": [
    "### Experimento 4\n",
    "\n",
    "Un tres servidores con un procesamiento promedio de 256, 512 y 1024 solicitudes procesadas y 150 recibidas por segundo, sin retroceso y las simulaciones tendrán una duración de 5s = 5000ms."
   ]
  },
  {
   "cell_type": "code",
   "execution_count": 8,
   "metadata": {},
   "outputs": [
    {
     "name": "stdout",
     "output_type": "stream",
     "text": [
      "+-------------+------------+------------------+\n",
      "| Metric      |   Variance |   Expected value |\n",
      "+=============+============+==================+\n",
      "| Wait Time   | 0.14684    |          2.07912 |\n",
      "+-------------+------------+------------------+\n",
      "| Use Time    | 0.00339538 |          2.33611 |\n",
      "+-------------+------------+------------------+\n",
      "| System Time | 1.5352     |         13.2457  |\n",
      "+-------------+------------+------------------+\n"
     ]
    }
   ],
   "source": [
    "results = run_simulation(5000, 3, 1/7, [1/4, 1/2, 1], [0, 0, 0], True)\n",
    "\n",
    "rows = [[key, results[key][0], results[key][1]] for key in results.keys()]\n",
    "\n",
    "print(tabulate(rows, headers=[\"Metric\", \"Variance\", \"Expected value\"], tablefmt=\"grid\"))"
   ]
  },
  {
   "cell_type": "markdown",
   "metadata": {},
   "source": [
    "### Experimento 5\n",
    "\n",
    "Un tres servidores con un procesamiento promedio de 1024, 512 y 256 solicitudes procesadas y 150 recibidas por segundo, sin retroceso y las simulaciones tendrán una duración de una  5s = 5000ms. En este caso pusimos primero los servidores más rápidos para verificar si había alguna diferencia."
   ]
  },
  {
   "cell_type": "code",
   "execution_count": 9,
   "metadata": {},
   "outputs": [
    {
     "name": "stdout",
     "output_type": "stream",
     "text": [
      "+-------------+------------+------------------+\n",
      "| Metric      |   Variance |   Expected value |\n",
      "+=============+============+==================+\n",
      "| Wait Time   | 0.161482   |          2.09725 |\n",
      "+-------------+------------+------------------+\n",
      "| Use Time    | 0.00310491 |          2.33576 |\n",
      "+-------------+------------+------------------+\n",
      "| System Time | 1.70726    |         13.299   |\n",
      "+-------------+------------+------------------+\n"
     ]
    }
   ],
   "source": [
    "results = run_simulation(5000, 3, 1/7, [1, 1/2, 1/4], [0, 0, 0], True)\n",
    "\n",
    "rows = [[key, results[key][0], results[key][1]] for key in results.keys()]\n",
    "\n",
    "print(tabulate(rows, headers=[\"Metric\", \"Variance\", \"Expected value\"], tablefmt=\"grid\"))"
   ]
  },
  {
   "cell_type": "markdown",
   "metadata": {},
   "source": [
    "### Experimento 6\n",
    "\n",
    "Un tres servidores con un procesamiento promedio de 1024, 512 y 256 solicitudes procesadas y 150 recibidas por segundo, con retroceso y las simulaciones tendrán una duración de una 5s = 5000ms."
   ]
  },
  {
   "cell_type": "code",
   "execution_count": 10,
   "metadata": {},
   "outputs": [
    {
     "name": "stdout",
     "output_type": "stream",
     "text": [
      "+-------------+-------------+------------------+\n",
      "| Metric      |    Variance |   Expected value |\n",
      "+=============+=============+==================+\n",
      "| Wait Time   | 9.50275e+06 |      28736.7     |\n",
      "+-------------+-------------+------------------+\n",
      "| Use Time    | 4.49179e-05 |          2.33322 |\n",
      "+-------------+-------------+------------------+\n",
      "| System Time | 5.60385e+07 |      69266.6     |\n",
      "+-------------+-------------+------------------+\n"
     ]
    }
   ],
   "source": [
    "results = run_simulation(5000, 3, 1/7, [1/4, 1/2, 1], [0, 0.1, 0.1], True)\n",
    "\n",
    "rows = [[key, results[key][0], results[key][1]] for key in results.keys()]\n",
    "\n",
    "print(tabulate(rows, headers=[\"Metric\", \"Variance\", \"Expected value\"], tablefmt=\"grid\"))"
   ]
  },
  {
   "cell_type": "markdown",
   "metadata": {},
   "source": [
    "### Interpretación de los resultados\n",
    "\n",
    "A medida que se incrementa la capacidad de procesamiento del servidor, se observa una mejora significativa en los tiempos de espera y de uso, lo que indica una mayor eficiencia en el manejo de las solicitudes.\n",
    "\n",
    "La introducción de múltiples servidores con diferentes capacidades de procesamiento aumenta la complejidad del sistema y resulta en una variabilidad más alta en los tiempos del sistema.\n",
    "\n",
    "Los resultados sugieren que la eficiencia y el rendimiento del sistema de servidores en serie están influenciados principalmente por la capacidad de procesamiento de los servidores individuales y la complejidad introducida por la presencia de múltiples servidores.\n",
    "\n",
    "Los experimentos que involucran múltiples servidores muestran que el orden en que se disponen los servidores no tiene un impacto significativo en los tiempos de espera, de uso y del sistema. Esto sugiere que, en configuraciones con múltiples servidores, el rendimiento del sistema no está influenciado por el orden en que se distribuyen las capacidades de procesamiento de los servidores.\n",
    "\n",
    "Se observa que aumentar ligeramente la probabilidad de reciclado resulta en un aumento significativo en el tiempo del sistema y en la duración total de la simulación. Esto indica que incluso pequeñas variaciones en la probabilidad de reciclado pueden tener un efecto considerable en el rendimiento del sistema y en el tiempo necesario para completar las simulaciones."
   ]
  },
  {
   "cell_type": "markdown",
   "metadata": {},
   "source": [
    "### Modelo Matemático\n",
    "\n",
    "#### Supuestos\n",
    "\n",
    "- Se asume que las colas son potencialmente infinitas, es decir, pueden almacenar un número ilimitado de clientes en espera.\n",
    "- No se considera prioridad en el servicio; el principio de primero en entrar, primero en salir (FIFO) se sigue en todas las colas.\n",
    "- Se supone que los clientes llegan al sistema de uno en uno, no se permiten llegadas simultáneas de varios clientes.\n",
    "- No se tienen en cuenta averías ni fallos en los servidores, se asume un funcionamiento continuo y sin interrupciones.\n",
    "- No se contempla el abandono de la cola por parte de los clientes, todos los clientes que ingresan a la cola eventualmente serán atendidos.\n",
    "- La simulación se detiene cuando todos los clientes han salido de la cola, pero a partir de un tiempo determinado ya no se permiten nuevas entradas de clientes al sistema.\n",
    "\n",
    "#### Descripción\n",
    "\n",
    "Inicialmente, nos enfocaremos en el caso donde existe un único servidor y por tanto no hay retroceso.\n",
    "\n",
    "En el problema de los servidores informáticos usaremos la distribución exponencial para las llegadas y salidas del sistema.\n",
    "\n",
    "Consideramos que los servidores pueden procesar en promedio 256 request por segundo, lo que implica un tiempo promedio de respuesta de 1 request cada 4 ms aproximadamente. Por tanto, usaremos la distribución exponencial con $\\mu = \\frac{1}{4}$ para simular las salidas. Siguiendo esta misma lógica, si consideramos que llegan alrededor de 150 solicitudes por segundo, entonces para las llegadas usaremos la distribución exponencial con $\\lambda = \\frac{1}{7}$.\n",
    "\n",
    "Entonces la tasa de llegada sería: $ a(t) = \\lambda e^{-\\lambda t} = 1/7 e^{1/7 t}$ y la tasa de salida $ d(t) = \\mu e^{-\\mu t} = 1/4 e^{1/4 t}$\n",
    "\n",
    "Dada la teoria explicada en [1],  podemos considerar el número promedio de clientes en la cola como:\n",
    "\n",
    "$ L = (1 - \\rho ) \\rho \\sum_{n=0}^{\\infty}n\\rho^{n-1} \\quad donde \\: \\sum_{n=0}^{\\infty}n\\rho^{n-1} = \\frac{1}{(1-\\rho)^{2}} \\quad por \\, tanto: \\: L = \\frac{\\rho}{1-\\rho} = \\frac{\\lambda}{\\mu - \\lambda} = f\\frac{1/7}{1/4-1/7}=1.33$\n",
    "\n",
    "De este modo podemos calcular también el tiempo medio de espera de los clientes en cola como:\n",
    "\n",
    "$ W = \\frac{L}{\\lambda} = \\frac{1}{\\mu - \\lambda} = 9.33$\n",
    "\n",
    "Lo que se aproxima a los resultados obtenidos en el experimento # 1.\n",
    "\n",
    "| Metric | Variance | Expected value |\n",
    "| -------| ---------| ---------------|\n",
    "| System Time | 1.58985 | 9.3543 |\n",
    "\n",
    "\n",
    "Ahora consideremos el caso de $n$ servidores, con capacidad infinita y sin retroceso.\n",
    "\n",
    "Partiendo de que la capacidad es infinita podemos analizar cada servidor por separado y apoyarnos en el análisis inicial.\n",
    "\n",
    "La distribución de la salida de los clientes de un sistema M/M/1/$\\infty$ tiene una distribución idéntica a la de la entrada. \n",
    "\n",
    "Entonces la probabilidad de que en un instante dado haya $n_1$ clientes en el servidor $1$, $n_2$ en el $2$ y $n_k$ en el $k$ es $P_{n{1},n{2},..,n{k}}=P_{n{1}}P_{n{2}}..P_{n{k}}$\n",
    "\n",
    "Entonces apoyados en lo descrito anteriormente, si tenemos 3 servidores con:\n",
    "\n",
    "$\\mu_{1} = 1/4,\\: \\mu_{2} = 1/2 \\: y \\: \\mu_3 = 1$\n",
    "$\\lambda = 1/7$\n",
    "\n",
    "Se pueden calcular los tiempo de espera promedio de los clientes en cada col como: $W_1 = 9.33, \\: W_2=2.8 \\: y \\: W_3= 1.16$, por lo que el tiempo de espera total será de aproximadamente $W=13.29$\n",
    "\n",
    "Lo que se aproxima a los resultados obtenidos\n",
    "\n",
    "Experimento # 4\n",
    "\n",
    "| Metric | Variance | Expected value |\n",
    "| -------| ---------| ---------------|\n",
    "| System Time | 1.68916  | 13.2794 |\n",
    "\n",
    "Experimento # 5\n",
    "\n",
    "| Metric | Variance | Expected value |\n",
    "| -------| ---------| ---------------|\n",
    "| System Time | 1.88207 | 13.2927 |\n",
    "\n",
    "\n",
    "Consideremos ahora el caso de n servidores con capacidad infinita y retroceso. \n",
    "\n",
    "Todos los servidores tienen un servicio exponencial de media $\\mu_i$. \n",
    "\n",
    "De cada etapa i un cliente se mueve a otra etapa con probabilidad $r_{ij}$ donde para $i>=j$ se sabe que $r_ij = 0$ .\n",
    "\n",
    "Entonces la llegada al primer servidor se define como $\\lambda_0 = \\lambda$ y al resto como $\\lambda_i = \\lambda_{i-1} + \\sum_{j = i+1}^{n} p\\lambda_j $\n",
    "\n",
    "Además sabemos por [1] que el comportamiento del valor medio permite seguir considerando cada cola como una M/M/1 independiente.\n",
    "\n",
    "Entonces:\n",
    "\n",
    "$ L_i = \\frac{\\rho_i}{1-\\rho_i} = \\frac{\\lambda_i}{\\mu - \\lambda_i} $\n",
    "\n",
    "$ W_i = \\frac{L_i}{\\lambda_i}$\n",
    "\n",
    "$ W = \\sum W_i $\n",
    "\n",
    "En este caso, después de largos días de búsqueda e investigación, no encontramos en la bibliografía proporcionada para el curso, ni en libros consultados en internet, una forma precisa de calcular la intensidad de llegada a cada servidor. \n",
    "\n",
    "La fórmula expuesta anteriormente fue deducida por nosotros dado el conocimiento adquirido durante la investigación y la realización de este trabajo, pero no es posible calcularla, puesto que tiene recursividad hacia delante y hacia atrás. Por favor, si es tan amable de compartirnos bibliografía donde podamos encontrar una solución al problema propuesto sería de mucha ayuda.\n",
    "\n",
    "No topamos con las series abiertas de Jackson, que se parecen en cierta medida, pero no encontramos evidencia que soportora que las mismas propiedades se cumplían, ya que en este caso solo el primer servidor recibe información del exterior y el reciclado o repetición de servidores solo es en retroceso.\n",
    "\n",
    "Además encontramos algunos usos de fórmulas de Earlang, pero tampoco encontramos evidencia que sustentara su validez en el problema propuesto."
   ]
  },
  {
   "cell_type": "markdown",
   "metadata": {},
   "source": [
    "#### Referencias:\n",
    "\n",
    "[1] José Pedro García Sabater, Aplicando Teorı́a de Colas en Dirección de Operaciones, 2015."
   ]
  }
 ],
 "metadata": {
  "kernelspec": {
   "display_name": "base",
   "language": "python",
   "name": "python3"
  },
  "language_info": {
   "codemirror_mode": {
    "name": "ipython",
    "version": 3
   },
   "file_extension": ".py",
   "mimetype": "text/x-python",
   "name": "python",
   "nbconvert_exporter": "python",
   "pygments_lexer": "ipython3",
   "version": "3.12.0"
  }
 },
 "nbformat": 4,
 "nbformat_minor": 2
}
