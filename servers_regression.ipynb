{
 "cells": [
  {
   "cell_type": "markdown",
   "metadata": {},
   "source": [
    "## Sistema: n servidores en serie con retroceso\n",
    "\n",
    "Este proyecto se enfoca en la creación de una simulación de eventos discretos con el fin de analizar y comprender diversos fenómenos. Nuestro objetivo es aplicar los principios de esta simulación para modelar y experimentar con dichos fenómenos, con el propósito de obtener resultados que guíen nuestras decisiones de manera informada.\n",
    "\n",
    "Los clientes llegan a un sistema que tiene n servidores, y las llegadas distribuye M. Cada cliente que llega debe ser atendido primero por el servidor 1 y, al completar el servicio en el servidor 1, el cliente pasa al servidor 2.\n",
    "\n",
    "Cuando un cliente llega, entra en servicio con el servidor 1 si ese servidor está libre, o se une a la cola del servidor 1 en caso contrario. De manera similar, cuando el cliente completa el servicio en el servidor 1, entra en servicio con el servidor 2 si ese servidor está libre, o se une a su cola y asi sucesivamente. Después de ser atendido en el servidor n, el cliente abandona el sistema.\n",
    "\n",
    "El servidor i con una probabilidad p pude se salta a la cola del servidor j.\n",
    "\n",
    "Los tiempos de servicio en el servidor i tienen la distribución Gi\n",
    "\n",
    "### Variables\n",
    "\n",
    "#### Tiempo\n",
    "\n",
    "$t$: tiempo general  \n",
    "$t_A$: tiempo de arribo del proximo cliente  \n",
    "$t_Di$: tiempo de salido del servidor i  \n",
    "\n",
    "#### Contadoras\n",
    "\n",
    "$n_A$: cantidad de arribos  \n",
    "$n_D$: cantidad de salidas  \n",
    "$A_i$: arribos al servidor i  \n",
    "$D_j$: salidas del servidor i  \n",
    "\n",
    "#### Estado\n",
    "\n",
    "$Queue_i$: cola de espera del servidor i\n"
   ]
  },
  {
   "cell_type": "markdown",
   "metadata": {},
   "source": [
    "### Implementación\n",
    "\n",
    "En la implementación del proyecto, se utilizan diversas funciones para la generación de números aleatorios con distribuciones específicas, necesarias para la simulación de eventos discretos. Estas funciones se han creado utilizando el módulo random de Python y otras bibliotecas estándar, guiandonos por las distintas funciones de distribución."
   ]
  },
  {
   "cell_type": "code",
   "execution_count": null,
   "metadata": {},
   "outputs": [],
   "source": [
    "from enum import Enum\n",
    "import math\n",
    "import random\n",
    "from queue import PriorityQueue as pq\n",
    "\n",
    "def generate_exponential(lambd): \n",
    "    return math.log(1 - random.uniform(), math.e) / -lambd\n",
    "\n",
    "def generate_bernoulli(p):\n",
    "    return 1 if random.uniform() < p else 0\n",
    "\n",
    "def generate_poisson(lambd):\n",
    "    L = math.exp(-lambd)\n",
    "    k = 0\n",
    "    p = 1\n",
    "\n",
    "    while True:\n",
    "        k += 1\n",
    "        p *= random.uniform(0, 1)\n",
    "        if p <= L:\n",
    "            return k - 1"
   ]
  },
  {
   "cell_type": "markdown",
   "metadata": {},
   "source": [
    "Se define un enum llamada EventType, el cual representa los distintos tipos de eventos que pueden ocurrir en el sistema simulado. Cada tipo de evento tiene asignado un valor entero único.\n",
    "\n",
    "ASIGNED: Este evento se refiere a la asignación de un cliente a la cola de un servidor.\n",
    "\n",
    "ARRIVAL: Representa la llegada de un cliente a un servidor.\n",
    "\n",
    "FINISH: Indica la finalización o conclusión del servicio al cliente."
   ]
  },
  {
   "cell_type": "code",
   "execution_count": null,
   "metadata": {},
   "outputs": [],
   "source": [
    "class EventType(Enum):\n",
    "    ASIGNED = 1\n",
    "    ARRIVAL = 2\n",
    "    FINISH = 3"
   ]
  },
  {
   "cell_type": "markdown",
   "metadata": {},
   "source": [
    "En este proyecto, hemos desarrollado simulaciones para dos tipos de relaciones servidor-cliente, aplicando distribuciones específicas a las variables aleatorias involucradas en cada situación.\n",
    "\n",
    "Para simular los servidores informáticos, hemos empleado una distribución exponencial con distintos valores de lambda. Estos valores de lambda representan diversas velocidades de procesamiento, que varían según la calidad y la generación de los servidores. Al utilizar distribuciones exponenciales, modelamos el tiempo que tarda cada servidor en completar una tarea, teniendo en cuenta la tasa promedio de llegada de solicitudes.\n",
    "\n",
    "Por otro lado, en el caso de la simulación de un banco, hemos optado por la distribución de Poisson que permite reflejar procesos más lentos. Esta distribución captura la variabilidad en los tiempos de espera y procesamiento en un entorno bancario, donde los procedimientos suelen ser más detallados y los tiempos de espera pueden ser considerablemente más largos en comparación con las operaciones informáticas estándar.\n",
    "\n",
    "La selección de distribuciones y valores específicos de lambda o parámetros de distribución se basa en la necesidad de modelar con precisión las características y variaciones de tiempo en cada contexto simulado, lo que nos permite obtener resultados realistas y significativos para la toma de decisiones y la optimización de los sistemas."
   ]
  },
  {
   "cell_type": "markdown",
   "metadata": {},
   "source": [
    "### Servidores informáticos"
   ]
  },
  {
   "cell_type": "code",
   "execution_count": null,
   "metadata": {},
   "outputs": [],
   "source": [
    "def simulation(n, lambda_arrival_time, lambda_wait_time):\n",
    "    \"\"\"\n",
    "    Este método simula un sistema de servidores para atender solicitudes de clientes.\n",
    "\n",
    "    Args:\n",
    "        n (int): El número de servidores en el sistema.\n",
    "        lambda_arrival_time (float): La tasa promedio de llegada de solicitudes al sistema.\n",
    "        lambda_wait_time (float): La tasa promedio de tiempo de espera en el sistema.\n",
    "        p (float): La probabilidad de que una solicitud sea asignada a un servidor adyacente.\n",
    "\n",
    "    Returns:\n",
    "        None\n",
    "    \"\"\"\n",
    "    \n",
    "    t = 0\n",
    "    events = pq()\n",
    "    n_a = 0\n",
    "    n_d = 0\n",
    "    a = [{} for _ in range(n)]\n",
    "    d = [{} for _ in range(n)]\n",
    "    queue = [[] for _ in range(n)]\n",
    "\n",
    "    while(t < 864):\n",
    "        events.put((t + generate_exponential(lambda_arrival_time), 1, 0, 0))\n",
    "        t, e, c, i = events.get()\n",
    "        if e == 1:\n",
    "            if len(queue[i]) == 0:\n",
    "                events.put((t, 2, c if i !=0 else n_a, i))\n",
    "            \n",
    "            queue[i].append(c if i !=0 else n_a)\n",
    "\n",
    "            if i == 0:\n",
    "                n_a += 1\n",
    "        elif e == 2:\n",
    "            a[i][c] = t\n",
    "            duration = generate_exponential(lambda_wait_time)\n",
    "            events.put((t + duration, 3, c, i))\n",
    "        elif e == 3:\n",
    "            if len(queue[i]) > 0:\n",
    "                queue[i].pop(0)\n",
    "            \n",
    "            if len(queue[i]) > 0:\n",
    "                events.put((t, 2, queue[i][0], i))\n",
    "\n",
    "            d[i][c] = t\n",
    "            if i == n-1:\n",
    "                n_d += 1\n",
    "                continue\n",
    "\n",
    "            events.put((t, 1, c, i+1))\n"
   ]
  },
  {
   "cell_type": "markdown",
   "metadata": {},
   "source": []
  }
 ],
 "metadata": {
  "kernelspec": {
   "display_name": "base",
   "language": "python",
   "name": "python3"
  },
  "language_info": {
   "name": "python",
   "version": "3.11.5"
  }
 },
 "nbformat": 4,
 "nbformat_minor": 2
}
